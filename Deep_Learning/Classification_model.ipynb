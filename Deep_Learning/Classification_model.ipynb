{
 "cells": [
  {
   "cell_type": "markdown",
   "id": "a632fae4",
   "metadata": {
    "id": "a632fae4"
   },
   "source": [
    "# Muiti-Label Classification"
   ]
  },
  {
   "cell_type": "markdown",
   "id": "5db6c232",
   "metadata": {
    "id": "5db6c232"
   },
   "source": [
    "## Import Packages"
   ]
  },
  {
   "cell_type": "code",
   "execution_count": null,
   "id": "c2e75dc0",
   "metadata": {
    "id": "c2e75dc0"
   },
   "outputs": [],
   "source": [
    "import torch\n",
    "import torch.nn as nn\n",
    "from torch.utils.data import DataLoader, Dataset, Subset\n",
    "from torchvision import datasets, transforms\n",
    "from sklearn.model_selection import train_test_split\n",
    "import numpy as np\n",
    "import os\n",
    "import glob\n",
    "import pandas as pd\n",
    "from collections import Counter\n",
    "from copy import deepcopy\n",
    "import matplotlib.pyplot as plt\n",
    "from PIL import Image\n",
    "import time\n",
    "import random"
   ]
  },
  {
   "cell_type": "markdown",
   "id": "bd2b7b3d",
   "metadata": {
    "id": "bd2b7b3d"
   },
   "source": [
    "## Setup seed"
   ]
  },
  {
   "cell_type": "code",
   "execution_count": null,
   "id": "82032f73",
   "metadata": {
    "colab": {
     "base_uri": "https://localhost:8080/"
    },
    "id": "82032f73",
    "outputId": "86e34150-3527-44ac-c7b5-ff5b83815c40"
   },
   "outputs": [],
   "source": [
    "# device setting\n",
    "device = 'cuda' if torch.cuda.is_available() else 'cpu'\n",
    "print (device)\n",
    "\n",
    "seed = 42 # seed value setting\n",
    "random.seed(seed) # Python random number generator \n",
    "os.environ['PYTHONHASHSEED'] = str(seed) # Fixed hash secret value\n",
    "np.random.seed(seed) # Numpy random number generator \n",
    "\n",
    "torch.manual_seed(seed) # Pytorch CPU random number generator\n",
    "torch.backends.cudnn.deterministic = True # deterministic operation setting\n",
    "torch.backends.cudnn.benchmark = False   # benchmark function setting\n",
    "torch.backends.cudnn.enabled = False        # cudnn function setting\n",
    "\n",
    "if device == 'cuda':\n",
    "    torch.cuda.manual_seed(seed) # Pythorch GPU Random Number Generator\n",
    "    torch.cuda.manual_seed_all(seed) # Pythorch Multi-GPU Random Number Generator"
   ]
  },
  {
   "cell_type": "markdown",
   "id": "9322b877",
   "metadata": {
    "id": "9322b877"
   },
   "source": [
    "## Connect Google Drive (When using Colab)"
   ]
  },
  {
   "cell_type": "code",
   "execution_count": null,
   "id": "c39adafe",
   "metadata": {
    "colab": {
     "base_uri": "https://localhost:8080/"
    },
    "id": "c39adafe",
    "outputId": "ff7f490a-01ec-4a9c-b0df-aefa154a81ed"
   },
   "outputs": [],
   "source": [
    "from google.colab import drive\n",
    "drive.mount('/content/drive')"
   ]
  },
  {
   "cell_type": "markdown",
   "id": "f861fa68",
   "metadata": {
    "id": "f861fa68"
   },
   "source": [
    "## Make validation, test set"
   ]
  },
  {
   "cell_type": "code",
   "execution_count": null,
   "id": "4bf899b9",
   "metadata": {
    "id": "4bf899b9"
   },
   "outputs": [],
   "source": [
    "# Enter Paths the file path of train.csv, validation.csv, and test.csv.\n",
    "train_dataset = pd.read_csv('./CSV_files/Deep_learning/train.csv')\n",
    "validation_dataset = pd.read_csv('./CSV_files/Deep_learning/train.csv')\n",
    "test_dataset = pd.read_csv('./CSV_files/Deep_learning/train.csv')"
   ]
  },
  {
   "cell_type": "code",
   "execution_count": null,
   "id": "4994ba90",
   "metadata": {
    "colab": {
     "base_uri": "https://localhost:8080/"
    },
    "id": "4994ba90",
    "outputId": "71343c43-73d9-4e74-81ec-d312fd184174"
   },
   "outputs": [],
   "source": [
    "# Make train, validation, test list\n",
    "train_list = train_dataset.values.tolist()\n",
    "val_list = validation_dataset.values.tolist()\n",
    "test_list = test_dataset.values.tolist()\n",
    "\n",
    "print(type(train_list))\n",
    "print(type(val_list))\n",
    "print(type(test_list))\n",
    "test_list[0], val_list[0], train_list[0]"
   ]
  },
  {
   "cell_type": "markdown",
   "id": "9992b5ed",
   "metadata": {
    "id": "9992b5ed"
   },
   "source": [
    "## Prepare dataset(Transforms and Custom Dataset)"
   ]
  },
  {
   "cell_type": "code",
   "execution_count": null,
   "id": "e58f06f3",
   "metadata": {
    "id": "e58f06f3"
   },
   "outputs": [],
   "source": [
    "from torchvision import transforms\n",
    "\n",
    "input_size = 480\n",
    "transforms_for_train =  transforms.Compose([\n",
    "        transforms.Resize(input_size),\n",
    "        transforms.ToTensor(),\n",
    "        transforms.Normalize([0.485, 0.456, 0.406], [0.229, 0.224, 0.225])\n",
    "    ])\n",
    "\n",
    "transforms_for_val_test = transforms.Compose([\n",
    "        transforms.Resize(input_size),\n",
    "        transforms.ToTensor(),\n",
    "        transforms.Normalize([0.485, 0.456, 0.406], [0.229, 0.224, 0.225])\n",
    "    ])\n",
    "\n",
    "#class Dataset\n",
    "class CustomDataset(Dataset):\n",
    "    def __init__(self, file_list, transform=None):\n",
    "        self.file_list = file_list\n",
    "        self.transform = transform\n",
    "    \n",
    "    def __len__(self):\n",
    "        return len(self.file_list)\n",
    "    \n",
    "    def __getitem__(self, idx):\n",
    "        img_path = self.file_list[idx][5]\n",
    "        label =  self.file_list[idx][2]\n",
    "        img = Image.open(img_path).convert('RGB')\n",
    "        if self.transform is not None:\n",
    "            img_transform = self.transform(img) \n",
    "            if label == 'Low':\n",
    "                  label = 0\n",
    "            elif label == 'Medium':\n",
    "                  label = 1\n",
    "            elif label == 'High':\n",
    "                  label = 2\n",
    "        return img_transform, label, img_path\n",
    "\n",
    "dataset_train = CustomDataset(train_list, transform=transforms_for_train)\n",
    "dataset_valid = CustomDataset(val_list, transform=transforms_for_val_test)\n",
    "dataset_test = CustomDataset(test_list, transform=transforms_for_val_test)\n",
    "\n",
    "from torch.utils.data import DataLoader #DataLoader class\n",
    "\n",
    "minibatch_size = 16\n",
    "\n",
    "train_batches = DataLoader(dataset=dataset_train, batch_size=minibatch_size, shuffle=True, num_workers=4, drop_last = True)\n",
    "val_batches = DataLoader(dataset=dataset_valid, batch_size=minibatch_size, shuffle=False, num_workers=4, drop_last = True)\n",
    "test_batches = DataLoader(dataset=dataset_test, batch_size=minibatch_size, shuffle=False, num_workers=4, drop_last = True)"
   ]
  },
  {
   "cell_type": "markdown",
   "id": "446b6de0",
   "metadata": {
    "id": "446b6de0"
   },
   "source": [
    "## Create Model"
   ]
  },
  {
   "cell_type": "code",
   "execution_count": null,
   "id": "kqpr0qLRgvzw",
   "metadata": {
    "colab": {
     "base_uri": "https://localhost:8080/"
    },
    "id": "kqpr0qLRgvzw",
    "outputId": "49b9f947-c200-4b52-8091-58737d13dd47"
   },
   "outputs": [],
   "source": [
    "# For Colab\n",
    "!pip install transformers"
   ]
  },
  {
   "cell_type": "code",
   "execution_count": null,
   "id": "36627f7b",
   "metadata": {
    "colab": {
     "base_uri": "https://localhost:8080/",
     "height": 68,
     "referenced_widgets": [
      "f57dbfde6eb4471489d314716f7234d1",
      "5b7c6331592e4973a9a165d9bd0435aa",
      "8beaba7b8d8745da9526f134d2e16347",
      "bc504889bf2b4e96bf98bbd75ef3504e",
      "3d239768acea4f3eb851213ee6b33505",
      "ab793822c56b45cfaa5953beca9bddab",
      "feb28a5ddd6d4f5e8532bbd4d09cd5c6",
      "3926a1100b8649dda693f8b13016e019",
      "3c518e82c9b446398d716f0a90e8abc7",
      "12de06b97dea4a7e88ab3abc36d038b4",
      "eb0a298fb5984744bf4357116e17f7c7"
     ]
    },
    "id": "36627f7b",
    "outputId": "90def5e4-1059-4d6b-d016-f5791070e632",
    "scrolled": true
   },
   "outputs": [],
   "source": [
    "# EfficientNetV2-l model\n",
    "\n",
    "from torchvision.models import *\n",
    "\n",
    "model = efficientnet_v2_l(weights=\"DEFAULT\")\n",
    "model.classifier = nn.Sequential (\n",
    "            nn.Linear(1280, 3, bias=True)\n",
    ")\n",
    "model = model.to(device)\n",
    "loss_func = nn.CrossEntropyLoss()\n",
    "optimizer = torch.optim.Adam(model.parameters(), lr=1e-5)\n",
    "scheduler = torch.optim.lr_scheduler.CosineAnnealingLR(optimizer, T_max=10 - 1, eta_min=0, last_epoch=-1)"
   ]
  },
  {
   "cell_type": "code",
   "execution_count": null,
   "id": "f14e73d5",
   "metadata": {
    "id": "f14e73d5"
   },
   "outputs": [],
   "source": [
    "# Functions of train and validation\n",
    "\n",
    "from tqdm import tqdm\n",
    "\n",
    "def train_model(model, criterion, optimizer, early_stop, epochs, train_loader, valid_loader):\n",
    "    train_losses, train_accuracies, valid_losses, valid_accuracies, lowest_loss, lowest_epoch = list(), list(), list(), list(), np.inf, 0\n",
    "    \n",
    "    # DEBUG\n",
    "    progress_count = 0\n",
    "\n",
    "    for epoch in range(epochs):\n",
    "        train_loss, train_accuracy, train_corrects, valid_loss, valid_accuracy, valid_corrects = 0, 0, 0, 0, 0, 0\n",
    "        train_correct, valid_correct = 0, 0\n",
    "\n",
    "        start = time.time()\n",
    "        model.train()\n",
    "        for train_x, train_y, img_path in tqdm(train_loader):\n",
    "            train_x = train_x.to(device)\n",
    "            train_y = train_y.to(device)\n",
    "            pred = model(train_x)\n",
    "            loss = criterion(pred, train_y)\n",
    "\n",
    "            optimizer.zero_grad()\n",
    "            loss.backward()\n",
    "            optimizer.step()\n",
    "            scheduler.step()\n",
    "            train_loss += loss.item()\n",
    "            \n",
    "            y_pred = torch.softmax(pred.detach().cpu(), dim=1)\n",
    "            y_pred = torch.argmax(y_pred, dim=1)\n",
    "\n",
    "            train_correct += y_pred.eq(train_y.detach().cpu()).sum().item()\n",
    "\n",
    "        train_loss = train_loss / len(train_loader)\n",
    "        train_losses.append(train_loss)\n",
    "        train_accuracy = train_correct / len(train_loader.dataset)\n",
    "        train_accuracies.append(train_accuracy)\n",
    "\n",
    "        model.eval()\n",
    "        with torch.no_grad():\n",
    "            for valid_x, valid_y, img_path in tqdm(valid_loader):\n",
    "                valid_x = valid_x.to(device)\n",
    "                valid_y = valid_y.to(device)\n",
    "                pred = model(valid_x)\n",
    "                loss = criterion(pred, valid_y)\n",
    "                valid_loss += loss.item()\n",
    "                \n",
    "                y_pred = torch.softmax(pred.detach().cpu(), dim=1)\n",
    "                y_pred = torch.argmax(y_pred, dim=1)\n",
    "                \n",
    "                valid_correct += y_pred.eq(valid_y.detach().cpu()).sum().item()\n",
    "\n",
    "        valid_loss = valid_loss / len(valid_loader)\n",
    "        valid_losses.append(valid_loss)\n",
    "        valid_accuracy = valid_correct / len(valid_loader.dataset)\n",
    "        valid_accuracies.append(valid_accuracy)\n",
    "        \n",
    "        elapsed_time = time.time() - start\n",
    "        print(f'[Epoch {epoch+1}/{epochs}]: {elapsed_time:.3f} sec(elapsed time), train loss: {train_losses[-1]:.4f}, train acc: {train_accuracy * 100:.3f}% / valid loss: {valid_losses[-1]:.4f}, valid acc: {valid_accuracy * 100:.3f}%')\n",
    "        print(optimizer.param_groups[0][\"lr\"])\n",
    "        if valid_losses[-1] < lowest_loss:\n",
    "            lowest_loss = valid_losses[-1]\n",
    "            lowest_epoch = epoch\n",
    "            best_model = deepcopy(model.state_dict())\n",
    "        else:\n",
    "            if (early_stop > 0) and lowest_epoch + early_stop < epoch:\n",
    "                print (\"Early Stopped\", epoch, \"epochs\")\n",
    "                break\n",
    "        \n",
    "\n",
    "\n",
    "    model.load_state_dict(best_model)        \n",
    "    return model, lowest_loss, train_losses, valid_losses, train_accuracies, valid_accuracies"
   ]
  },
  {
   "cell_type": "markdown",
   "id": "3112576c",
   "metadata": {
    "id": "3112576c"
   },
   "source": [
    "## Training"
   ]
  },
  {
   "cell_type": "code",
   "execution_count": null,
   "id": "fbdb2cb2",
   "metadata": {
    "colab": {
     "base_uri": "https://localhost:8080/"
    },
    "id": "fbdb2cb2",
    "outputId": "7d0f8af1-2050-4c14-b116-3dae640afcd2",
    "scrolled": true
   },
   "outputs": [],
   "source": [
    "model, lowest_loss, train_losses, valid_losses, train_accuracies, valid_accuracies = train_model(model, loss_func, optimizer, 0, 10, train_batches, val_batches)"
   ]
  },
  {
   "cell_type": "markdown",
   "id": "a66d2edd",
   "metadata": {
    "id": "a66d2edd"
   },
   "source": [
    "## Save Model"
   ]
  },
  {
   "cell_type": "code",
   "execution_count": null,
   "id": "4ac5a1a3",
   "metadata": {
    "id": "4ac5a1a3"
   },
   "outputs": [],
   "source": [
    "# Enter a file path of Dataset/models\n",
    "PATH = './models/'\n",
    "torch.save(model.state_dict(), PATH + '622raw_3Classes_model_efficientnetv2_l_adam_cosine1e5_epoch10_batch16.pth')"
   ]
  },
  {
   "cell_type": "markdown",
   "id": "68e27f12",
   "metadata": {
    "id": "68e27f12"
   },
   "source": [
    "## Load Model"
   ]
  },
  {
   "cell_type": "code",
   "execution_count": null,
   "id": "348d4ce6",
   "metadata": {
    "colab": {
     "base_uri": "https://localhost:8080/"
    },
    "id": "348d4ce6",
    "outputId": "696a01e2-754d-4044-eac6-467b590693d2"
   },
   "outputs": [],
   "source": [
    "# Enter a file path of Dataset/models\n",
    "PATH = './models/'\n",
    "model.load_state_dict(torch.load(PATH + '622raw_3Classes_model_efficientnetv2_l_adam_cosine1e5_epoch10_batch16.pth'))"
   ]
  },
  {
   "cell_type": "markdown",
   "id": "a5028505",
   "metadata": {
    "id": "a5028505"
   },
   "source": [
    "## Predict(Testing)"
   ]
  },
  {
   "cell_type": "code",
   "execution_count": null,
   "id": "1a1f9911",
   "metadata": {
    "colab": {
     "base_uri": "https://localhost:8080/"
    },
    "id": "1a1f9911",
    "outputId": "449d42e5-5538-4025-ec86-c8108a4262c4"
   },
   "outputs": [],
   "source": [
    "test_loss = 0\n",
    "correct = 0\n",
    "wrong_samples, wrong_preds, actual_preds = list(), list(), list()\n",
    "test_loss, test_accuracy, test_corrects = 0, 0, 0\n",
    "test_correct, test_correct = 0, 0\n",
    "preds = []\n",
    "\n",
    "model.eval()\n",
    "with torch.no_grad():\n",
    "    for test_x, test_y, img_path in tqdm(test_batches):\n",
    "        test_x = test_x.to(device)\n",
    "        test_y = test_y.to(device)      \n",
    "        pred = model(test_x)\n",
    "\n",
    "        loss = torch.sqrt(loss_func(pred, test_y))\n",
    "        test_loss += loss.item()\n",
    "        \n",
    "        y_pred = torch.softmax(pred.detach().cpu(), dim=1)\n",
    "        y_pred = torch.argmax(y_pred, dim=1)\n",
    "        preds.append(y_pred.item())\n",
    "\n",
    "        test_correct += y_pred.eq(test_y.detach().cpu()).sum().item()\n",
    "        test_x = test_x.detach().cpu()\n",
    "        \n",
    "        wrong_idx = y_pred.ne(test_y.detach().cpu()).nonzero()[:, 0].cpu().numpy().tolist()\n",
    "        for index in wrong_idx:\n",
    "            wrong_samples.append(img_path[index])\n",
    "            wrong_preds.append(y_pred[index].cpu())\n",
    "            actual_preds.append(test_y[index].cpu())\n",
    "            \n",
    "test_loss /= len(test_batches)\n",
    "print('Average Test Loss: {:.4f}'.format( test_loss ))\n",
    "print('Accuracy: {}/{} ({:.2f}%)'.format( test_correct, len(test_batches.dataset), 100 * test_correct / len(test_batches.dataset) ))"
   ]
  },
  {
   "cell_type": "markdown",
   "id": "ytCbcQ9EOpVf",
   "metadata": {
    "id": "ytCbcQ9EOpVf"
   },
   "source": [
    "## Confusion Matrix"
   ]
  },
  {
   "cell_type": "code",
   "execution_count": null,
   "id": "l5llHCBrPOcG",
   "metadata": {
    "id": "l5llHCBrPOcG"
   },
   "outputs": [],
   "source": [
    "from sklearn.metrics import confusion_matrix\n",
    "import seaborn as sn\n",
    "import pandas as pd\n",
    "\n",
    "\n",
    "y_pred = []\n",
    "y_true = []\n",
    "\n",
    "\n",
    "# iterate over test data\n",
    "for inputs, labels, img_path in tqdm (test_batches):\n",
    "        inputs = inputs.to(device)\n",
    "        output = model(inputs)# Feed Network\n",
    "\n",
    "        output = (torch.max(torch.exp(output), 1)[1]).data.cpu().numpy()\n",
    "        y_pred.extend(output) # Save Predictionx\n",
    "        \n",
    "        labels = labels.data.cpu().numpy()\n",
    "        y_true.extend(labels) # Save Truth\n",
    "        \n",
    "# constant for classes\n",
    "classes = ('Low', 'Medium', 'High')\n",
    "\n",
    "# Build confusion matrix\n",
    "cf_matrix = confusion_matrix(y_true, y_pred)\n",
    "df_cm = pd.DataFrame(cf_matrix/np.sum(cf_matrix) *10, index = [i for i in classes],\n",
    "                     columns = [i for i in classes])\n",
    "plt.figure(figsize = (12,7))\n",
    "sn.heatmap(df_cm, annot=True)\n",
    "plt.savefig('./Dataset/output.png')"
   ]
  },
  {
   "cell_type": "markdown",
   "id": "9abecfc6",
   "metadata": {
    "id": "9abecfc6"
   },
   "source": [
    "## Showing incorrect data"
   ]
  },
  {
   "cell_type": "code",
   "execution_count": null,
   "id": "de4c6180",
   "metadata": {
    "id": "de4c6180"
   },
   "outputs": [],
   "source": [
    "# Showing 100 images of incorrect datas\n",
    "import matplotlib.pyplot as plt\n",
    "import cv2 as cv\n",
    "# %matplotlib inline\n",
    "\n",
    "plt.figure(figsize=(28 , 28))\n",
    "\n",
    "wrong = len(wrong_samples)\n",
    "\n",
    "for index in range(wrong):\n",
    "    plt.subplot(10, 10, index + 1)\n",
    "    plt.axis('off')\n",
    "    img = plt.imread(wrong_samples[index])\n",
    "    plt.imshow(img)\n",
    "    plt.title(\"Pred\" + str(wrong_preds[index].item()) + \"(\" + str(actual_preds[index].item()) + \")\", color='red')"
   ]
  }
 ],
 "metadata": {
  "accelerator": "GPU",
  "colab": {
   "machine_shape": "hm",
   "provenance": []
  },
  "gpuClass": "premium",
  "kernelspec": {
   "display_name": "Python 3 (ipykernel)",
   "language": "python",
   "name": "python3"
  },
  "language_info": {
   "codemirror_mode": {
    "name": "ipython",
    "version": 3
   },
   "file_extension": ".py",
   "mimetype": "text/x-python",
   "name": "python",
   "nbconvert_exporter": "python",
   "pygments_lexer": "ipython3",
   "version": "3.9.13"
  },
  "vscode": {
   "interpreter": {
    "hash": "ad2bdc8ecc057115af97d19610ffacc2b4e99fae6737bb82f5d7fb13d2f2c186"
   }
  },
  "widgets": {
   "application/vnd.jupyter.widget-state+json": {
    "12de06b97dea4a7e88ab3abc36d038b4": {
     "model_module": "@jupyter-widgets/base",
     "model_module_version": "1.2.0",
     "model_name": "LayoutModel",
     "state": {
      "_model_module": "@jupyter-widgets/base",
      "_model_module_version": "1.2.0",
      "_model_name": "LayoutModel",
      "_view_count": null,
      "_view_module": "@jupyter-widgets/base",
      "_view_module_version": "1.2.0",
      "_view_name": "LayoutView",
      "align_content": null,
      "align_items": null,
      "align_self": null,
      "border": null,
      "bottom": null,
      "display": null,
      "flex": null,
      "flex_flow": null,
      "grid_area": null,
      "grid_auto_columns": null,
      "grid_auto_flow": null,
      "grid_auto_rows": null,
      "grid_column": null,
      "grid_gap": null,
      "grid_row": null,
      "grid_template_areas": null,
      "grid_template_columns": null,
      "grid_template_rows": null,
      "height": null,
      "justify_content": null,
      "justify_items": null,
      "left": null,
      "margin": null,
      "max_height": null,
      "max_width": null,
      "min_height": null,
      "min_width": null,
      "object_fit": null,
      "object_position": null,
      "order": null,
      "overflow": null,
      "overflow_x": null,
      "overflow_y": null,
      "padding": null,
      "right": null,
      "top": null,
      "visibility": null,
      "width": null
     }
    },
    "3926a1100b8649dda693f8b13016e019": {
     "model_module": "@jupyter-widgets/base",
     "model_module_version": "1.2.0",
     "model_name": "LayoutModel",
     "state": {
      "_model_module": "@jupyter-widgets/base",
      "_model_module_version": "1.2.0",
      "_model_name": "LayoutModel",
      "_view_count": null,
      "_view_module": "@jupyter-widgets/base",
      "_view_module_version": "1.2.0",
      "_view_name": "LayoutView",
      "align_content": null,
      "align_items": null,
      "align_self": null,
      "border": null,
      "bottom": null,
      "display": null,
      "flex": null,
      "flex_flow": null,
      "grid_area": null,
      "grid_auto_columns": null,
      "grid_auto_flow": null,
      "grid_auto_rows": null,
      "grid_column": null,
      "grid_gap": null,
      "grid_row": null,
      "grid_template_areas": null,
      "grid_template_columns": null,
      "grid_template_rows": null,
      "height": null,
      "justify_content": null,
      "justify_items": null,
      "left": null,
      "margin": null,
      "max_height": null,
      "max_width": null,
      "min_height": null,
      "min_width": null,
      "object_fit": null,
      "object_position": null,
      "order": null,
      "overflow": null,
      "overflow_x": null,
      "overflow_y": null,
      "padding": null,
      "right": null,
      "top": null,
      "visibility": null,
      "width": null
     }
    },
    "3c518e82c9b446398d716f0a90e8abc7": {
     "model_module": "@jupyter-widgets/controls",
     "model_module_version": "1.5.0",
     "model_name": "ProgressStyleModel",
     "state": {
      "_model_module": "@jupyter-widgets/controls",
      "_model_module_version": "1.5.0",
      "_model_name": "ProgressStyleModel",
      "_view_count": null,
      "_view_module": "@jupyter-widgets/base",
      "_view_module_version": "1.2.0",
      "_view_name": "StyleView",
      "bar_color": null,
      "description_width": ""
     }
    },
    "3d239768acea4f3eb851213ee6b33505": {
     "model_module": "@jupyter-widgets/base",
     "model_module_version": "1.2.0",
     "model_name": "LayoutModel",
     "state": {
      "_model_module": "@jupyter-widgets/base",
      "_model_module_version": "1.2.0",
      "_model_name": "LayoutModel",
      "_view_count": null,
      "_view_module": "@jupyter-widgets/base",
      "_view_module_version": "1.2.0",
      "_view_name": "LayoutView",
      "align_content": null,
      "align_items": null,
      "align_self": null,
      "border": null,
      "bottom": null,
      "display": null,
      "flex": null,
      "flex_flow": null,
      "grid_area": null,
      "grid_auto_columns": null,
      "grid_auto_flow": null,
      "grid_auto_rows": null,
      "grid_column": null,
      "grid_gap": null,
      "grid_row": null,
      "grid_template_areas": null,
      "grid_template_columns": null,
      "grid_template_rows": null,
      "height": null,
      "justify_content": null,
      "justify_items": null,
      "left": null,
      "margin": null,
      "max_height": null,
      "max_width": null,
      "min_height": null,
      "min_width": null,
      "object_fit": null,
      "object_position": null,
      "order": null,
      "overflow": null,
      "overflow_x": null,
      "overflow_y": null,
      "padding": null,
      "right": null,
      "top": null,
      "visibility": null,
      "width": null
     }
    },
    "5b7c6331592e4973a9a165d9bd0435aa": {
     "model_module": "@jupyter-widgets/controls",
     "model_module_version": "1.5.0",
     "model_name": "HTMLModel",
     "state": {
      "_dom_classes": [],
      "_model_module": "@jupyter-widgets/controls",
      "_model_module_version": "1.5.0",
      "_model_name": "HTMLModel",
      "_view_count": null,
      "_view_module": "@jupyter-widgets/controls",
      "_view_module_version": "1.5.0",
      "_view_name": "HTMLView",
      "description": "",
      "description_tooltip": null,
      "layout": "IPY_MODEL_ab793822c56b45cfaa5953beca9bddab",
      "placeholder": "​",
      "style": "IPY_MODEL_feb28a5ddd6d4f5e8532bbd4d09cd5c6",
      "value": "100%"
     }
    },
    "8beaba7b8d8745da9526f134d2e16347": {
     "model_module": "@jupyter-widgets/controls",
     "model_module_version": "1.5.0",
     "model_name": "FloatProgressModel",
     "state": {
      "_dom_classes": [],
      "_model_module": "@jupyter-widgets/controls",
      "_model_module_version": "1.5.0",
      "_model_name": "FloatProgressModel",
      "_view_count": null,
      "_view_module": "@jupyter-widgets/controls",
      "_view_module_version": "1.5.0",
      "_view_name": "ProgressView",
      "bar_style": "success",
      "description": "",
      "description_tooltip": null,
      "layout": "IPY_MODEL_3926a1100b8649dda693f8b13016e019",
      "max": 476654413,
      "min": 0,
      "orientation": "horizontal",
      "style": "IPY_MODEL_3c518e82c9b446398d716f0a90e8abc7",
      "value": 476654413
     }
    },
    "ab793822c56b45cfaa5953beca9bddab": {
     "model_module": "@jupyter-widgets/base",
     "model_module_version": "1.2.0",
     "model_name": "LayoutModel",
     "state": {
      "_model_module": "@jupyter-widgets/base",
      "_model_module_version": "1.2.0",
      "_model_name": "LayoutModel",
      "_view_count": null,
      "_view_module": "@jupyter-widgets/base",
      "_view_module_version": "1.2.0",
      "_view_name": "LayoutView",
      "align_content": null,
      "align_items": null,
      "align_self": null,
      "border": null,
      "bottom": null,
      "display": null,
      "flex": null,
      "flex_flow": null,
      "grid_area": null,
      "grid_auto_columns": null,
      "grid_auto_flow": null,
      "grid_auto_rows": null,
      "grid_column": null,
      "grid_gap": null,
      "grid_row": null,
      "grid_template_areas": null,
      "grid_template_columns": null,
      "grid_template_rows": null,
      "height": null,
      "justify_content": null,
      "justify_items": null,
      "left": null,
      "margin": null,
      "max_height": null,
      "max_width": null,
      "min_height": null,
      "min_width": null,
      "object_fit": null,
      "object_position": null,
      "order": null,
      "overflow": null,
      "overflow_x": null,
      "overflow_y": null,
      "padding": null,
      "right": null,
      "top": null,
      "visibility": null,
      "width": null
     }
    },
    "bc504889bf2b4e96bf98bbd75ef3504e": {
     "model_module": "@jupyter-widgets/controls",
     "model_module_version": "1.5.0",
     "model_name": "HTMLModel",
     "state": {
      "_dom_classes": [],
      "_model_module": "@jupyter-widgets/controls",
      "_model_module_version": "1.5.0",
      "_model_name": "HTMLModel",
      "_view_count": null,
      "_view_module": "@jupyter-widgets/controls",
      "_view_module_version": "1.5.0",
      "_view_name": "HTMLView",
      "description": "",
      "description_tooltip": null,
      "layout": "IPY_MODEL_12de06b97dea4a7e88ab3abc36d038b4",
      "placeholder": "​",
      "style": "IPY_MODEL_eb0a298fb5984744bf4357116e17f7c7",
      "value": " 455M/455M [00:01&lt;00:00, 386MB/s]"
     }
    },
    "eb0a298fb5984744bf4357116e17f7c7": {
     "model_module": "@jupyter-widgets/controls",
     "model_module_version": "1.5.0",
     "model_name": "DescriptionStyleModel",
     "state": {
      "_model_module": "@jupyter-widgets/controls",
      "_model_module_version": "1.5.0",
      "_model_name": "DescriptionStyleModel",
      "_view_count": null,
      "_view_module": "@jupyter-widgets/base",
      "_view_module_version": "1.2.0",
      "_view_name": "StyleView",
      "description_width": ""
     }
    },
    "f57dbfde6eb4471489d314716f7234d1": {
     "model_module": "@jupyter-widgets/controls",
     "model_module_version": "1.5.0",
     "model_name": "HBoxModel",
     "state": {
      "_dom_classes": [],
      "_model_module": "@jupyter-widgets/controls",
      "_model_module_version": "1.5.0",
      "_model_name": "HBoxModel",
      "_view_count": null,
      "_view_module": "@jupyter-widgets/controls",
      "_view_module_version": "1.5.0",
      "_view_name": "HBoxView",
      "box_style": "",
      "children": [
       "IPY_MODEL_5b7c6331592e4973a9a165d9bd0435aa",
       "IPY_MODEL_8beaba7b8d8745da9526f134d2e16347",
       "IPY_MODEL_bc504889bf2b4e96bf98bbd75ef3504e"
      ],
      "layout": "IPY_MODEL_3d239768acea4f3eb851213ee6b33505"
     }
    },
    "feb28a5ddd6d4f5e8532bbd4d09cd5c6": {
     "model_module": "@jupyter-widgets/controls",
     "model_module_version": "1.5.0",
     "model_name": "DescriptionStyleModel",
     "state": {
      "_model_module": "@jupyter-widgets/controls",
      "_model_module_version": "1.5.0",
      "_model_name": "DescriptionStyleModel",
      "_view_count": null,
      "_view_module": "@jupyter-widgets/base",
      "_view_module_version": "1.2.0",
      "_view_name": "StyleView",
      "description_width": ""
     }
    }
   }
  }
 },
 "nbformat": 4,
 "nbformat_minor": 5
}
