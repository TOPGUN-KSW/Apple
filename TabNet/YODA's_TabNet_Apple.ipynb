{
  "nbformat": 4,
  "nbformat_minor": 0,
  "metadata": {
    "colab": {
      "provenance": [],
      "collapsed_sections": [],
      "machine_shape": "hm"
    },
    "kernelspec": {
      "name": "python3",
      "display_name": "Python 3"
    },
    "language_info": {
      "name": "python"
    },
    "accelerator": "GPU",
    "gpuClass": "premium"
  },
  "cells": [
    {
      "cell_type": "markdown",
      "source": [
        "### Section 1\n",
        "###Install packages needed for TabNet\n",
        "You need to run these codes inorder to train and test TabNet"
      ],
      "metadata": {
        "id": "3yo6661xSXfr"
      }
    },
    {
      "cell_type": "code",
      "source": [
        "!pip install pytorch-tabnet\n",
        "!pip install wget"
      ],
      "metadata": {
        "id": "DU0uaIGirWDn",
        "colab": {
          "base_uri": "https://localhost:8080/"
        },
        "outputId": "35ed7274-d29e-42d7-9e93-6cc47c405e74"
      },
      "execution_count": 3,
      "outputs": [
        {
          "output_type": "stream",
          "name": "stdout",
          "text": [
            "Looking in indexes: https://pypi.org/simple, https://us-python.pkg.dev/colab-wheels/public/simple/\n",
            "Collecting pytorch-tabnet\n",
            "  Downloading pytorch_tabnet-4.0-py3-none-any.whl (41 kB)\n",
            "\u001b[K     |████████████████████████████████| 41 kB 515 kB/s \n",
            "\u001b[?25hRequirement already satisfied: numpy<2.0,>=1.17 in /usr/local/lib/python3.7/dist-packages (from pytorch-tabnet) (1.21.6)\n",
            "Requirement already satisfied: scipy>1.4 in /usr/local/lib/python3.7/dist-packages (from pytorch-tabnet) (1.7.3)\n",
            "Requirement already satisfied: scikit_learn>0.21 in /usr/local/lib/python3.7/dist-packages (from pytorch-tabnet) (1.0.2)\n",
            "Requirement already satisfied: torch<2.0,>=1.2 in /usr/local/lib/python3.7/dist-packages (from pytorch-tabnet) (1.12.1+cu113)\n",
            "Requirement already satisfied: tqdm<5.0,>=4.36 in /usr/local/lib/python3.7/dist-packages (from pytorch-tabnet) (4.64.1)\n",
            "Requirement already satisfied: joblib>=0.11 in /usr/local/lib/python3.7/dist-packages (from scikit_learn>0.21->pytorch-tabnet) (1.2.0)\n",
            "Requirement already satisfied: threadpoolctl>=2.0.0 in /usr/local/lib/python3.7/dist-packages (from scikit_learn>0.21->pytorch-tabnet) (3.1.0)\n",
            "Requirement already satisfied: typing-extensions in /usr/local/lib/python3.7/dist-packages (from torch<2.0,>=1.2->pytorch-tabnet) (4.1.1)\n",
            "Installing collected packages: pytorch-tabnet\n",
            "Successfully installed pytorch-tabnet-4.0\n",
            "Looking in indexes: https://pypi.org/simple, https://us-python.pkg.dev/colab-wheels/public/simple/\n",
            "Collecting wget\n",
            "  Downloading wget-3.2.zip (10 kB)\n",
            "Building wheels for collected packages: wget\n",
            "  Building wheel for wget (setup.py) ... \u001b[?25l\u001b[?25hdone\n",
            "  Created wheel for wget: filename=wget-3.2-py3-none-any.whl size=9675 sha256=ad74cc289303028b02d8a8160ffb176b57cd692e6164e5325690e13867554493\n",
            "  Stored in directory: /root/.cache/pip/wheels/a1/b6/7c/0e63e34eb06634181c63adacca38b79ff8f35c37e3c13e3c02\n",
            "Successfully built wget\n",
            "Installing collected packages: wget\n",
            "Successfully installed wget-3.2\n"
          ]
        }
      ]
    },
    {
      "cell_type": "code",
      "execution_count": 4,
      "metadata": {
        "id": "0QF7Q5_lrH-9"
      },
      "outputs": [],
      "source": [
        "from pytorch_tabnet.tab_model import TabNetClassifier\n",
        "\n",
        "import torch\n",
        "from sklearn.preprocessing import LabelEncoder #Encode target labels with value between 0 and n_classes-1\n",
        "# This transformer should be used to encode target values, i.e. y, and not the input X.\n",
        "from sklearn.metrics import accuracy_score\n",
        "from sklearn.model_selection import train_test_split\n",
        "import pandas as pd\n",
        "import numpy as np\n",
        "np.random.seed(0)\n",
        "\n",
        "\n",
        "import os\n",
        "import wget\n",
        "from pathlib import Path\n",
        "import shutil\n",
        "import gzip\n",
        "\n",
        "from matplotlib import pyplot as plt\n",
        "%matplotlib inline"
      ]
    },
    {
      "cell_type": "markdown",
      "source": [
        "### Section 2\n",
        "### Upload apple-attribute dataset\n",
        "Follow the instructions inorder to upload the data\n"
      ],
      "metadata": {
        "id": "criRVtibsrfk"
      }
    },
    {
      "cell_type": "code",
      "source": [
        "# First run this code\n",
        "dataset_name = 'apple-attribute'\n",
        "tmp_out = Path('./data/'+dataset_name+'.gz')\n",
        "out = Path(os.getcwd()+'/data/'+dataset_name+'.csv')"
      ],
      "metadata": {
        "id": "qNK6OSGFsaRh"
      },
      "execution_count": 18,
      "outputs": []
    },
    {
      "cell_type": "code",
      "source": [
        "# Then run this code to create the directory\n",
        "out.parent.mkdir(parents=True, exist_ok=True)"
      ],
      "metadata": {
        "id": "oNjJG4fRbbrQ"
      },
      "execution_count": 19,
      "outputs": []
    },
    {
      "cell_type": "code",
      "source": [
        "# You do NOT need to run this one\n",
        "out.parent.mkdir(parents=True, exist_ok=True)\n",
        "if out.exists():\n",
        "    print(\"File already exists.\")\n",
        "else:\n",
        "    print(\"Downloading file...\")\n",
        "    wget.download(url, tmp_out.as_posix())\n",
        "    with gzip.open(tmp_out, 'rb') as f_in:\n",
        "        with open(out, 'wb') as f_out:\n",
        "            shutil.copyfileobj(f_in, f_out)"
      ],
      "metadata": {
        "colab": {
          "base_uri": "https://localhost:8080/"
        },
        "id": "tNrb61obtdrv",
        "outputId": "dbbb466a-5220-48cb-a292-10d5da3117b4"
      },
      "execution_count": 17,
      "outputs": [
        {
          "output_type": "stream",
          "name": "stdout",
          "text": [
            "File already exists.\n"
          ]
        }
      ]
    },
    {
      "cell_type": "code",
      "source": [
        "# Run this short code\n",
        "# Now upload apple-attribute.csv file manually so that the file's absolute path is the same as the output printed below\n",
        "# Make sure the file name is 'apple-attribute'\n",
        "print(out)"
      ],
      "metadata": {
        "colab": {
          "base_uri": "https://localhost:8080/"
        },
        "id": "2z47eXO0ViJl",
        "outputId": "014f5ca3-0f94-482c-e98f-0fae4f992952"
      },
      "execution_count": 20,
      "outputs": [
        {
          "output_type": "stream",
          "name": "stdout",
          "text": [
            "/content/data/apple-attribute.csv\n"
          ]
        }
      ]
    },
    {
      "cell_type": "markdown",
      "source": [
        "### Section 3\n",
        "### Finding out important features of data\n",
        "This part of the section is not necessary. But if you wish to find out features that are most realated to the Brix level, you should try running this code"
      ],
      "metadata": {
        "id": "mRY_In8ajSKw"
      }
    },
    {
      "cell_type": "code",
      "source": [
        "# Run this\n",
        "!pip install category-encoders\n",
        "from category_encoders import OneHotEncoder\n",
        "from sklearn.model_selection import train_test_split\n",
        "from sklearn.feature_selection import f_regression, SelectKBest # Getting f_regresison, and SelectKBest "
      ],
      "metadata": {
        "id": "CfzWrIJjiNi4"
      },
      "execution_count": 22,
      "outputs": []
    },
    {
      "cell_type": "code",
      "source": [
        "# Run this too\n",
        "# Even if there is a warning, there's no problem with the code\n",
        "encoder = OneHotEncoder(use_cat_names = True)\n",
        "\n",
        "df = pd.read_csv('/content/data/apple-attribute-classname.csv') # , header=None, names=feature_columns\n",
        "\n",
        "df1 = encoder.fit_transform(df) # if there is no string variable, there will be warning. but dw\n",
        "\n",
        "df1.head()"
      ],
      "metadata": {
        "colab": {
          "base_uri": "https://localhost:8080/",
          "height": 225
        },
        "id": "je5N4-xAkybr",
        "outputId": "fba6d947-5fbd-4866-d8a7-3fb2f40bd2bb"
      },
      "execution_count": 23,
      "outputs": [
        {
          "output_type": "stream",
          "name": "stdout",
          "text": [
            "Warning: No categorical columns found. Calling 'transform' will only return input data.\n"
          ]
        },
        {
          "output_type": "execute_result",
          "data": {
            "text/plain": [
              "      red  green   blue      r      rg  most_red  least_red  most_yellow  \\\n",
              "0  184.66  90.55  44.45  49.66  230.76       157       -208          368   \n",
              "1  143.38  32.91  46.23  64.24  130.06       154       -239          335   \n",
              "2  152.75  26.75  41.77  84.23  137.73       167       -248          300   \n",
              "3  172.13  36.68  50.80  84.65  158.01       171       -161          276   \n",
              "4  176.63  62.04  37.88  76.71  200.79       163       -139          374   \n",
              "\n",
              "    size  sweetness  \n",
              "0  10603          2  \n",
              "1   9954          2  \n",
              "2   9773          2  \n",
              "3   9985          2  \n",
              "4   9980          2  "
            ],
            "text/html": [
              "\n",
              "  <div id=\"df-4734f0ae-04e3-4fc4-b205-e8b3ac798785\">\n",
              "    <div class=\"colab-df-container\">\n",
              "      <div>\n",
              "<style scoped>\n",
              "    .dataframe tbody tr th:only-of-type {\n",
              "        vertical-align: middle;\n",
              "    }\n",
              "\n",
              "    .dataframe tbody tr th {\n",
              "        vertical-align: top;\n",
              "    }\n",
              "\n",
              "    .dataframe thead th {\n",
              "        text-align: right;\n",
              "    }\n",
              "</style>\n",
              "<table border=\"1\" class=\"dataframe\">\n",
              "  <thead>\n",
              "    <tr style=\"text-align: right;\">\n",
              "      <th></th>\n",
              "      <th>red</th>\n",
              "      <th>green</th>\n",
              "      <th>blue</th>\n",
              "      <th>r</th>\n",
              "      <th>rg</th>\n",
              "      <th>most_red</th>\n",
              "      <th>least_red</th>\n",
              "      <th>most_yellow</th>\n",
              "      <th>size</th>\n",
              "      <th>sweetness</th>\n",
              "    </tr>\n",
              "  </thead>\n",
              "  <tbody>\n",
              "    <tr>\n",
              "      <th>0</th>\n",
              "      <td>184.66</td>\n",
              "      <td>90.55</td>\n",
              "      <td>44.45</td>\n",
              "      <td>49.66</td>\n",
              "      <td>230.76</td>\n",
              "      <td>157</td>\n",
              "      <td>-208</td>\n",
              "      <td>368</td>\n",
              "      <td>10603</td>\n",
              "      <td>2</td>\n",
              "    </tr>\n",
              "    <tr>\n",
              "      <th>1</th>\n",
              "      <td>143.38</td>\n",
              "      <td>32.91</td>\n",
              "      <td>46.23</td>\n",
              "      <td>64.24</td>\n",
              "      <td>130.06</td>\n",
              "      <td>154</td>\n",
              "      <td>-239</td>\n",
              "      <td>335</td>\n",
              "      <td>9954</td>\n",
              "      <td>2</td>\n",
              "    </tr>\n",
              "    <tr>\n",
              "      <th>2</th>\n",
              "      <td>152.75</td>\n",
              "      <td>26.75</td>\n",
              "      <td>41.77</td>\n",
              "      <td>84.23</td>\n",
              "      <td>137.73</td>\n",
              "      <td>167</td>\n",
              "      <td>-248</td>\n",
              "      <td>300</td>\n",
              "      <td>9773</td>\n",
              "      <td>2</td>\n",
              "    </tr>\n",
              "    <tr>\n",
              "      <th>3</th>\n",
              "      <td>172.13</td>\n",
              "      <td>36.68</td>\n",
              "      <td>50.80</td>\n",
              "      <td>84.65</td>\n",
              "      <td>158.01</td>\n",
              "      <td>171</td>\n",
              "      <td>-161</td>\n",
              "      <td>276</td>\n",
              "      <td>9985</td>\n",
              "      <td>2</td>\n",
              "    </tr>\n",
              "    <tr>\n",
              "      <th>4</th>\n",
              "      <td>176.63</td>\n",
              "      <td>62.04</td>\n",
              "      <td>37.88</td>\n",
              "      <td>76.71</td>\n",
              "      <td>200.79</td>\n",
              "      <td>163</td>\n",
              "      <td>-139</td>\n",
              "      <td>374</td>\n",
              "      <td>9980</td>\n",
              "      <td>2</td>\n",
              "    </tr>\n",
              "  </tbody>\n",
              "</table>\n",
              "</div>\n",
              "      <button class=\"colab-df-convert\" onclick=\"convertToInteractive('df-4734f0ae-04e3-4fc4-b205-e8b3ac798785')\"\n",
              "              title=\"Convert this dataframe to an interactive table.\"\n",
              "              style=\"display:none;\">\n",
              "        \n",
              "  <svg xmlns=\"http://www.w3.org/2000/svg\" height=\"24px\"viewBox=\"0 0 24 24\"\n",
              "       width=\"24px\">\n",
              "    <path d=\"M0 0h24v24H0V0z\" fill=\"none\"/>\n",
              "    <path d=\"M18.56 5.44l.94 2.06.94-2.06 2.06-.94-2.06-.94-.94-2.06-.94 2.06-2.06.94zm-11 1L8.5 8.5l.94-2.06 2.06-.94-2.06-.94L8.5 2.5l-.94 2.06-2.06.94zm10 10l.94 2.06.94-2.06 2.06-.94-2.06-.94-.94-2.06-.94 2.06-2.06.94z\"/><path d=\"M17.41 7.96l-1.37-1.37c-.4-.4-.92-.59-1.43-.59-.52 0-1.04.2-1.43.59L10.3 9.45l-7.72 7.72c-.78.78-.78 2.05 0 2.83L4 21.41c.39.39.9.59 1.41.59.51 0 1.02-.2 1.41-.59l7.78-7.78 2.81-2.81c.8-.78.8-2.07 0-2.86zM5.41 20L4 18.59l7.72-7.72 1.47 1.35L5.41 20z\"/>\n",
              "  </svg>\n",
              "      </button>\n",
              "      \n",
              "  <style>\n",
              "    .colab-df-container {\n",
              "      display:flex;\n",
              "      flex-wrap:wrap;\n",
              "      gap: 12px;\n",
              "    }\n",
              "\n",
              "    .colab-df-convert {\n",
              "      background-color: #E8F0FE;\n",
              "      border: none;\n",
              "      border-radius: 50%;\n",
              "      cursor: pointer;\n",
              "      display: none;\n",
              "      fill: #1967D2;\n",
              "      height: 32px;\n",
              "      padding: 0 0 0 0;\n",
              "      width: 32px;\n",
              "    }\n",
              "\n",
              "    .colab-df-convert:hover {\n",
              "      background-color: #E2EBFA;\n",
              "      box-shadow: 0px 1px 2px rgba(60, 64, 67, 0.3), 0px 1px 3px 1px rgba(60, 64, 67, 0.15);\n",
              "      fill: #174EA6;\n",
              "    }\n",
              "\n",
              "    [theme=dark] .colab-df-convert {\n",
              "      background-color: #3B4455;\n",
              "      fill: #D2E3FC;\n",
              "    }\n",
              "\n",
              "    [theme=dark] .colab-df-convert:hover {\n",
              "      background-color: #434B5C;\n",
              "      box-shadow: 0px 1px 3px 1px rgba(0, 0, 0, 0.15);\n",
              "      filter: drop-shadow(0px 1px 2px rgba(0, 0, 0, 0.3));\n",
              "      fill: #FFFFFF;\n",
              "    }\n",
              "  </style>\n",
              "\n",
              "      <script>\n",
              "        const buttonEl =\n",
              "          document.querySelector('#df-4734f0ae-04e3-4fc4-b205-e8b3ac798785 button.colab-df-convert');\n",
              "        buttonEl.style.display =\n",
              "          google.colab.kernel.accessAllowed ? 'block' : 'none';\n",
              "\n",
              "        async function convertToInteractive(key) {\n",
              "          const element = document.querySelector('#df-4734f0ae-04e3-4fc4-b205-e8b3ac798785');\n",
              "          const dataTable =\n",
              "            await google.colab.kernel.invokeFunction('convertToInteractive',\n",
              "                                                     [key], {});\n",
              "          if (!dataTable) return;\n",
              "\n",
              "          const docLinkHtml = 'Like what you see? Visit the ' +\n",
              "            '<a target=\"_blank\" href=https://colab.research.google.com/notebooks/data_table.ipynb>data table notebook</a>'\n",
              "            + ' to learn more about interactive tables.';\n",
              "          element.innerHTML = '';\n",
              "          dataTable['output_type'] = 'display_data';\n",
              "          await google.colab.output.renderOutput(dataTable, element);\n",
              "          const docLink = document.createElement('div');\n",
              "          docLink.innerHTML = docLinkHtml;\n",
              "          element.appendChild(docLink);\n",
              "        }\n",
              "      </script>\n",
              "    </div>\n",
              "  </div>\n",
              "  "
            ]
          },
          "metadata": {},
          "execution_count": 23
        }
      ]
    },
    {
      "cell_type": "code",
      "source": [
        "X = df1[df1.columns.difference(['sweetness'])]\n",
        "y = df1[['sweetness']]\n",
        "X_train, X_test, y_train, y_test = train_test_split(X, y, train_size=0.999, test_size=0.001)\n",
        "print(X_train.shape)\n",
        "print(X_test.shape)\n",
        "print(y_train.shape)\n",
        "print(y_test.shape)\n",
        "print(df1.shape)"
      ],
      "metadata": {
        "colab": {
          "base_uri": "https://localhost:8080/"
        },
        "id": "WuK7ysBYlgEB",
        "outputId": "78cb7a70-cb20-47bb-d768-6db0761a493c"
      },
      "execution_count": 25,
      "outputs": [
        {
          "output_type": "stream",
          "name": "stdout",
          "text": [
            "(1198, 9)\n",
            "(2, 9)\n",
            "(1198, 1)\n",
            "(2, 1)\n",
            "(1200, 10)\n"
          ]
        }
      ]
    },
    {
      "cell_type": "code",
      "source": [
        "# searching for k number of features that are most correlated to the Brix level\n",
        "# change k in line 6 to see the most imoportant features\n",
        "\n",
        "# I used f-regresssion method\n",
        "## define selector\n",
        "selector = SelectKBest(score_func=f_regression, k=8) # <---- chage this k, then run this code and check the output for important features.\n",
        "## fit_transform on train data\n",
        "X_train_selected = selector.fit_transform(X_train, y_train)\n",
        "## transform on test data\n",
        "X_test_selected = selector.transform(X_test)\n",
        "X_train_selected.shape, X_test_selected.shape\n",
        "\n",
        "all_names = X_train.columns\n",
        "## selector.get_support()\n",
        "selected_mask = selector.get_support()\n",
        "## selected names\n",
        "selected_names = all_names[selected_mask]\n",
        "## not selected names\n",
        "unselected_names = all_names[~selected_mask]\n",
        "print('Selected names: ', selected_names)\n",
        "print('Unselected names: ', unselected_names)"
      ],
      "metadata": {
        "colab": {
          "base_uri": "https://localhost:8080/"
        },
        "id": "KgCKMa0CmDsM",
        "outputId": "6179f3ee-cd30-4237-e329-7c7796bcd21e"
      },
      "execution_count": 37,
      "outputs": [
        {
          "output_type": "stream",
          "name": "stdout",
          "text": [
            "Selected names:  Index(['blue', 'green', 'least_red', 'most_red', 'r', 'red', 'rg', 'size'], dtype='object')\n",
            "Unselected names:  Index(['most_yellow'], dtype='object')\n"
          ]
        },
        {
          "output_type": "stream",
          "name": "stderr",
          "text": [
            "/usr/local/lib/python3.7/dist-packages/sklearn/utils/validation.py:993: DataConversionWarning: A column-vector y was passed when a 1d array was expected. Please change the shape of y to (n_samples, ), for example using ravel().\n",
            "  y = column_or_1d(y, warn=True)\n"
          ]
        }
      ]
    },
    {
      "cell_type": "markdown",
      "source": [
        "results can very with different dataframes\n",
        "1. r\n",
        "2. most_red\n",
        "3. green\n",
        "4. size\n",
        "5. blue\n",
        "6. rg\n",
        "7. least_red\n",
        "8. red\n",
        "9. most_yellow"
      ],
      "metadata": {
        "id": "AvrPzyf6qucm"
      }
    },
    {
      "cell_type": "markdown",
      "source": [
        "### Section 4\n",
        "### Load data and split\n",
        "Follow the code to load and split data"
      ],
      "metadata": {
        "id": "NqHuoj1ftwlp"
      }
    },
    {
      "cell_type": "code",
      "source": [
        "# Run this code\n",
        "target = \"sweetness\" # Do not change this\n",
        "\n",
        "int_columns = [ # Put the features that you will be using\n",
        "    \"green\",\n",
        "    \"r\",\n",
        "    \"most_red\", \"size\"\n",
        "]\n",
        "\n",
        "feature_columns = (int_columns + [target]) # length = 4 + 1 = 5"
      ],
      "metadata": {
        "id": "ww-VVakTty6i"
      },
      "execution_count": 40,
      "outputs": []
    },
    {
      "cell_type": "code",
      "source": [
        "# checking feature_columns\n",
        "# The output should be the list of your features and the target\n",
        "for i in feature_columns:\n",
        "  print(i) "
      ],
      "metadata": {
        "id": "j_qIgo9WNOuZ",
        "colab": {
          "base_uri": "https://localhost:8080/"
        },
        "outputId": "7d965631-0d79-410f-dc22-b99f2dafbdc9"
      },
      "execution_count": 42,
      "outputs": [
        {
          "output_type": "stream",
          "name": "stdout",
          "text": [
            "green\n",
            "r\n",
            "most_red\n",
            "size\n",
            "sweetness\n"
          ]
        }
      ]
    },
    {
      "cell_type": "code",
      "source": [
        "train = pd.read_csv(out, header=None, names=feature_columns)\n",
        "\n",
        "n_total = len(train)\n",
        "\n",
        "# Train, val and test split follows\n",
        "train_val_indices, test_indices = train_test_split(\n",
        "    range(n_total), test_size=0.2, random_state=None) # test_size will determine the size of test data, random_state controls the shuffling process.\n",
        "train_indices, valid_indices = train_test_split(\n",
        "    train_val_indices, test_size=0.2 / 0.8, random_state=None) # test_size will determine the size of validation data"
      ],
      "metadata": {
        "id": "gtkz4eDrLG6T"
      },
      "execution_count": 45,
      "outputs": []
    },
    {
      "cell_type": "markdown",
      "source": [
        "### Section 5\n",
        "### Simple preprocessing\n",
        "Label encode categorical features and fill empty cells. You don't really need to understand this part, just run them if you can't understand"
      ],
      "metadata": {
        "id": "2Xr827NxR572"
      }
    },
    {
      "cell_type": "code",
      "source": [
        "categorical_columns = [] #python list\n",
        "categorical_dims =  {} #python dictionary\n",
        "for col in train.columns[train.dtypes == object]: #train은 위에서 만든 pandas DataFrame, train.dtypes는 \n",
        "    print(col, train[col].nunique()) # nunique() returns the number of unique values for each column\n",
        "    l_enc = LabelEncoder()\n",
        "    train[col] = train[col].fillna(\"VV_likely\") #fill NA values using specified method\n",
        "    train[col] = l_enc.fit_transform(train[col].values) # Fit label encoder and return encoded labels\n",
        "    categorical_columns.append(col)\n",
        "    categorical_dims[col] = len(l_enc.classes_)\n",
        "\n",
        "for col in train.columns[train.dtypes == 'float64']:\n",
        "    train.fillna(train.loc[train_indices, col].mean(), inplace=True)"
      ],
      "metadata": {
        "id": "7pzu5FTpSGaB"
      },
      "execution_count": 47,
      "outputs": []
    },
    {
      "cell_type": "markdown",
      "source": [
        "### 뭔말인지 하나도 모르겠네\n",
        "## ignore me :)\n",
        "간단한 전처리로 컬럼의 unique한 값이 200개 이하이면 Categorical 변수로 변환하고, 200개 이상인 경우 Numerical로 판단하여 Null value를 평균값으로 대체해줍니다.\n",
        "\n",
        "\n",
        "\n",
        "\n",
        "그리고 논문리뷰에서 설명했듯이 TabNet은 입력으로 Categorical변수를 Embedding 하기 때문에, Categorical 변수라는 것을 지정해주어야 합니다. 따라서, cat_idxs와 cat_dims를 저장해둡니다."
      ],
      "metadata": {
        "id": "9GckMTRiee95"
      }
    },
    {
      "cell_type": "markdown",
      "source": [
        "### Section 6\n",
        "### Define categorical features for categorical embeddings\n",
        "Just run them"
      ],
      "metadata": {
        "id": "9A9c35bSdqec"
      }
    },
    {
      "cell_type": "code",
      "source": [
        "# Categorical Embedding을 위해 Categorical 변수의 차원과 idxs를 담음.\n",
        "unused_feat = []\n",
        "\n",
        "# features is a list that has the features as elements\n",
        "features = [ col for col in train.columns if col not in unused_feat+[target]] \n",
        "\n",
        "# List of categorical features indices. Mandatory for embeddings\n",
        "cat_idxs = [ i for i, f in enumerate(features) if f in categorical_columns]\n",
        "\n",
        "# List of categorical features number of modalities (number of unique values for a categorical feature). Mandatory for embeddings\n",
        "cat_dims = [ categorical_dims[f] for i, f in enumerate(features) if f in categorical_columns]"
      ],
      "metadata": {
        "id": "911wXD3hcXtr"
      },
      "execution_count": 49,
      "outputs": []
    },
    {
      "cell_type": "markdown",
      "source": [
        "### Section 7\n",
        "### Network parameters\n",
        "Creating the model"
      ],
      "metadata": {
        "id": "v4lWUYWrfOZk"
      }
    },
    {
      "cell_type": "code",
      "source": [
        "# Run\n",
        "# refer https://github.com/dreamquark-ai/tabnet for Model parameters\n",
        "# You can try changing the parameters to find out the best result\n",
        "\n",
        "clf = TabNetClassifier( \n",
        "    n_d=64, \n",
        "    n_a=64, \n",
        "    n_steps=5,\n",
        "    gamma=1.5, \n",
        "    n_independent=2, \n",
        "    n_shared=2,\n",
        "    cat_idxs=cat_idxs,\n",
        "    cat_dims=cat_dims,\n",
        "    cat_emb_dim=1,\n",
        "    lambda_sparse=1e-4, \n",
        "    momentum=0.3,\n",
        "    clip_value=2.,\n",
        "    optimizer_fn=torch.optim.Adam,\n",
        "    optimizer_params=dict(lr=2e-2), #2e-2 is origianl\n",
        "    scheduler_params = {\"gamma\": 0.95,\n",
        "                     \"step_size\": 20},\n",
        "    scheduler_fn=torch.optim.lr_scheduler.StepLR, epsilon=1e-15\n",
        ")"
      ],
      "metadata": {
        "id": "L7dXhKf0dtKC"
      },
      "execution_count": 51,
      "outputs": []
    },
    {
      "cell_type": "markdown",
      "source": [
        "### Section 8\n",
        "### Training"
      ],
      "metadata": {
        "id": "KBSLVPlog3-f"
      }
    },
    {
      "cell_type": "code",
      "source": [
        "# Run, u don't need to understand\n",
        "if os.getenv(\"CI\", False):\n",
        "# Take only a subsample to run CI\n",
        "    X_train = train[features].values[train_indices][:1000,:] # train_indices = list of train indexes\n",
        "    y_train = train[target].values[train_indices][:1000]\n",
        "else:\n",
        "    X_train = train[features].values[train_indices]\n",
        "    y_train = train[target].values[train_indices]\n",
        "\n",
        "X_valid = train[features].values[valid_indices]\n",
        "y_valid = train[target].values[valid_indices]\n",
        "\n",
        "X_test = train[features].values[test_indices]\n",
        "y_test = train[target].values[test_indices]"
      ],
      "metadata": {
        "id": "Gc7Z7VcpfTKj"
      },
      "execution_count": 52,
      "outputs": []
    },
    {
      "cell_type": "code",
      "source": [
        "# checking how X_train looks like\n",
        "df = pd.DataFrame(X_train)\n",
        "df.head()"
      ],
      "metadata": {
        "colab": {
          "base_uri": "https://localhost:8080/",
          "height": 206
        },
        "id": "Z5-KpR1CNQEP",
        "outputId": "d2a8a4c5-f852-4877-e08f-b1588d301b54"
      },
      "execution_count": 53,
      "outputs": [
        {
          "output_type": "execute_result",
          "data": {
            "text/plain": [
              "        0      1      2        3\n",
              "0   44.18  35.51  140.0  16141.0\n",
              "1   66.23   9.64   81.0   9586.0\n",
              "2  183.01 -74.12   62.0  11111.0\n",
              "3  106.94  14.48  118.0  13715.0\n",
              "4  102.23  22.12  128.0  11912.0"
            ],
            "text/html": [
              "\n",
              "  <div id=\"df-cb066377-e6b4-4de7-8bbc-43ff2ffc2203\">\n",
              "    <div class=\"colab-df-container\">\n",
              "      <div>\n",
              "<style scoped>\n",
              "    .dataframe tbody tr th:only-of-type {\n",
              "        vertical-align: middle;\n",
              "    }\n",
              "\n",
              "    .dataframe tbody tr th {\n",
              "        vertical-align: top;\n",
              "    }\n",
              "\n",
              "    .dataframe thead th {\n",
              "        text-align: right;\n",
              "    }\n",
              "</style>\n",
              "<table border=\"1\" class=\"dataframe\">\n",
              "  <thead>\n",
              "    <tr style=\"text-align: right;\">\n",
              "      <th></th>\n",
              "      <th>0</th>\n",
              "      <th>1</th>\n",
              "      <th>2</th>\n",
              "      <th>3</th>\n",
              "    </tr>\n",
              "  </thead>\n",
              "  <tbody>\n",
              "    <tr>\n",
              "      <th>0</th>\n",
              "      <td>44.18</td>\n",
              "      <td>35.51</td>\n",
              "      <td>140.0</td>\n",
              "      <td>16141.0</td>\n",
              "    </tr>\n",
              "    <tr>\n",
              "      <th>1</th>\n",
              "      <td>66.23</td>\n",
              "      <td>9.64</td>\n",
              "      <td>81.0</td>\n",
              "      <td>9586.0</td>\n",
              "    </tr>\n",
              "    <tr>\n",
              "      <th>2</th>\n",
              "      <td>183.01</td>\n",
              "      <td>-74.12</td>\n",
              "      <td>62.0</td>\n",
              "      <td>11111.0</td>\n",
              "    </tr>\n",
              "    <tr>\n",
              "      <th>3</th>\n",
              "      <td>106.94</td>\n",
              "      <td>14.48</td>\n",
              "      <td>118.0</td>\n",
              "      <td>13715.0</td>\n",
              "    </tr>\n",
              "    <tr>\n",
              "      <th>4</th>\n",
              "      <td>102.23</td>\n",
              "      <td>22.12</td>\n",
              "      <td>128.0</td>\n",
              "      <td>11912.0</td>\n",
              "    </tr>\n",
              "  </tbody>\n",
              "</table>\n",
              "</div>\n",
              "      <button class=\"colab-df-convert\" onclick=\"convertToInteractive('df-cb066377-e6b4-4de7-8bbc-43ff2ffc2203')\"\n",
              "              title=\"Convert this dataframe to an interactive table.\"\n",
              "              style=\"display:none;\">\n",
              "        \n",
              "  <svg xmlns=\"http://www.w3.org/2000/svg\" height=\"24px\"viewBox=\"0 0 24 24\"\n",
              "       width=\"24px\">\n",
              "    <path d=\"M0 0h24v24H0V0z\" fill=\"none\"/>\n",
              "    <path d=\"M18.56 5.44l.94 2.06.94-2.06 2.06-.94-2.06-.94-.94-2.06-.94 2.06-2.06.94zm-11 1L8.5 8.5l.94-2.06 2.06-.94-2.06-.94L8.5 2.5l-.94 2.06-2.06.94zm10 10l.94 2.06.94-2.06 2.06-.94-2.06-.94-.94-2.06-.94 2.06-2.06.94z\"/><path d=\"M17.41 7.96l-1.37-1.37c-.4-.4-.92-.59-1.43-.59-.52 0-1.04.2-1.43.59L10.3 9.45l-7.72 7.72c-.78.78-.78 2.05 0 2.83L4 21.41c.39.39.9.59 1.41.59.51 0 1.02-.2 1.41-.59l7.78-7.78 2.81-2.81c.8-.78.8-2.07 0-2.86zM5.41 20L4 18.59l7.72-7.72 1.47 1.35L5.41 20z\"/>\n",
              "  </svg>\n",
              "      </button>\n",
              "      \n",
              "  <style>\n",
              "    .colab-df-container {\n",
              "      display:flex;\n",
              "      flex-wrap:wrap;\n",
              "      gap: 12px;\n",
              "    }\n",
              "\n",
              "    .colab-df-convert {\n",
              "      background-color: #E8F0FE;\n",
              "      border: none;\n",
              "      border-radius: 50%;\n",
              "      cursor: pointer;\n",
              "      display: none;\n",
              "      fill: #1967D2;\n",
              "      height: 32px;\n",
              "      padding: 0 0 0 0;\n",
              "      width: 32px;\n",
              "    }\n",
              "\n",
              "    .colab-df-convert:hover {\n",
              "      background-color: #E2EBFA;\n",
              "      box-shadow: 0px 1px 2px rgba(60, 64, 67, 0.3), 0px 1px 3px 1px rgba(60, 64, 67, 0.15);\n",
              "      fill: #174EA6;\n",
              "    }\n",
              "\n",
              "    [theme=dark] .colab-df-convert {\n",
              "      background-color: #3B4455;\n",
              "      fill: #D2E3FC;\n",
              "    }\n",
              "\n",
              "    [theme=dark] .colab-df-convert:hover {\n",
              "      background-color: #434B5C;\n",
              "      box-shadow: 0px 1px 3px 1px rgba(0, 0, 0, 0.15);\n",
              "      filter: drop-shadow(0px 1px 2px rgba(0, 0, 0, 0.3));\n",
              "      fill: #FFFFFF;\n",
              "    }\n",
              "  </style>\n",
              "\n",
              "      <script>\n",
              "        const buttonEl =\n",
              "          document.querySelector('#df-cb066377-e6b4-4de7-8bbc-43ff2ffc2203 button.colab-df-convert');\n",
              "        buttonEl.style.display =\n",
              "          google.colab.kernel.accessAllowed ? 'block' : 'none';\n",
              "\n",
              "        async function convertToInteractive(key) {\n",
              "          const element = document.querySelector('#df-cb066377-e6b4-4de7-8bbc-43ff2ffc2203');\n",
              "          const dataTable =\n",
              "            await google.colab.kernel.invokeFunction('convertToInteractive',\n",
              "                                                     [key], {});\n",
              "          if (!dataTable) return;\n",
              "\n",
              "          const docLinkHtml = 'Like what you see? Visit the ' +\n",
              "            '<a target=\"_blank\" href=https://colab.research.google.com/notebooks/data_table.ipynb>data table notebook</a>'\n",
              "            + ' to learn more about interactive tables.';\n",
              "          element.innerHTML = '';\n",
              "          dataTable['output_type'] = 'display_data';\n",
              "          await google.colab.output.renderOutput(dataTable, element);\n",
              "          const docLink = document.createElement('div');\n",
              "          docLink.innerHTML = docLinkHtml;\n",
              "          element.appendChild(docLink);\n",
              "        }\n",
              "      </script>\n",
              "    </div>\n",
              "  </div>\n",
              "  "
            ]
          },
          "metadata": {},
          "execution_count": 53
        }
      ]
    },
    {
      "cell_type": "code",
      "source": [
        "# Increasing the max_epochs might help get a better accuracy\n",
        "# The original max_epochs value was 50\n",
        "max_epochs = 100 if not os.getenv(\"CI\", False) else 2"
      ],
      "metadata": {
        "id": "mwm1lbsvg_bm"
      },
      "execution_count": 69,
      "outputs": []
    },
    {
      "cell_type": "code",
      "source": [
        "# This will train the model\n",
        "from pytorch_tabnet.augmentations import ClassificationSMOTE\n",
        "aug = ClassificationSMOTE(p=0.2)\n",
        "\n",
        "clf.fit(\n",
        "    X_train=X_train, y_train=y_train,\n",
        "    eval_set=[(X_train, y_train), (X_valid, y_valid)],\n",
        "    eval_name=['train', 'valid'],\n",
        "    max_epochs=max_epochs, patience=100,\n",
        "    batch_size=16, # changing the batch_size will help he accuracy go up, batch sized have to be multiple of 2\n",
        "    virtual_batch_size=16, # virtual_batch_size should be same as virtual_batch_size\n",
        "    augmentations=aug\n",
        ")"
      ],
      "metadata": {
        "colab": {
          "base_uri": "https://localhost:8080/"
        },
        "id": "nTxNs3CohAzF",
        "outputId": "b7a12bd8-5d04-4d3c-8d8b-9b41a7190388"
      },
      "execution_count": 70,
      "outputs": [
        {
          "output_type": "stream",
          "name": "stdout",
          "text": [
            "epoch 0  | loss: 1.81205 | train_accuracy: 0.35    | valid_accuracy: 0.38333 |  0:00:03s\n",
            "epoch 1  | loss: 1.09727 | train_accuracy: 0.35    | valid_accuracy: 0.3875  |  0:00:06s\n",
            "epoch 2  | loss: 1.04531 | train_accuracy: 0.36528 | valid_accuracy: 0.38333 |  0:00:10s\n",
            "epoch 3  | loss: 1.01742 | train_accuracy: 0.44167 | valid_accuracy: 0.4125  |  0:00:13s\n",
            "epoch 4  | loss: 1.03126 | train_accuracy: 0.4625  | valid_accuracy: 0.42083 |  0:00:16s\n",
            "epoch 5  | loss: 1.01319 | train_accuracy: 0.46944 | valid_accuracy: 0.39583 |  0:00:20s\n",
            "epoch 6  | loss: 1.02247 | train_accuracy: 0.5     | valid_accuracy: 0.4375  |  0:00:23s\n",
            "epoch 7  | loss: 1.02049 | train_accuracy: 0.45833 | valid_accuracy: 0.45417 |  0:00:26s\n",
            "epoch 8  | loss: 1.0139  | train_accuracy: 0.49861 | valid_accuracy: 0.42083 |  0:00:30s\n",
            "epoch 9  | loss: 1.01203 | train_accuracy: 0.47639 | valid_accuracy: 0.49167 |  0:00:33s\n",
            "epoch 10 | loss: 1.01559 | train_accuracy: 0.50139 | valid_accuracy: 0.45417 |  0:00:36s\n",
            "epoch 11 | loss: 1.00155 | train_accuracy: 0.46389 | valid_accuracy: 0.34583 |  0:00:40s\n",
            "epoch 12 | loss: 1.00015 | train_accuracy: 0.51528 | valid_accuracy: 0.46667 |  0:00:43s\n",
            "epoch 13 | loss: 1.00974 | train_accuracy: 0.50833 | valid_accuracy: 0.47083 |  0:00:46s\n",
            "epoch 14 | loss: 1.01827 | train_accuracy: 0.51111 | valid_accuracy: 0.45    |  0:00:49s\n",
            "epoch 15 | loss: 1.01899 | train_accuracy: 0.5125  | valid_accuracy: 0.45417 |  0:00:53s\n",
            "epoch 16 | loss: 1.00706 | train_accuracy: 0.46806 | valid_accuracy: 0.3375  |  0:00:56s\n",
            "epoch 17 | loss: 1.02157 | train_accuracy: 0.51528 | valid_accuracy: 0.42083 |  0:00:59s\n",
            "epoch 18 | loss: 1.006   | train_accuracy: 0.49861 | valid_accuracy: 0.40417 |  0:01:03s\n",
            "epoch 19 | loss: 1.00768 | train_accuracy: 0.50417 | valid_accuracy: 0.39167 |  0:01:06s\n",
            "epoch 20 | loss: 1.00729 | train_accuracy: 0.50972 | valid_accuracy: 0.41667 |  0:01:09s\n",
            "epoch 21 | loss: 1.00697 | train_accuracy: 0.51667 | valid_accuracy: 0.44167 |  0:01:13s\n",
            "epoch 22 | loss: 1.00918 | train_accuracy: 0.51528 | valid_accuracy: 0.41667 |  0:01:16s\n",
            "epoch 23 | loss: 0.99444 | train_accuracy: 0.52778 | valid_accuracy: 0.425   |  0:01:19s\n",
            "epoch 24 | loss: 0.97776 | train_accuracy: 0.50139 | valid_accuracy: 0.42917 |  0:01:23s\n",
            "epoch 25 | loss: 0.99163 | train_accuracy: 0.51944 | valid_accuracy: 0.43333 |  0:01:26s\n",
            "epoch 26 | loss: 1.00825 | train_accuracy: 0.50833 | valid_accuracy: 0.45417 |  0:01:29s\n",
            "epoch 27 | loss: 0.98938 | train_accuracy: 0.51806 | valid_accuracy: 0.41667 |  0:01:33s\n",
            "epoch 28 | loss: 1.01191 | train_accuracy: 0.50694 | valid_accuracy: 0.44167 |  0:01:36s\n",
            "epoch 29 | loss: 0.99245 | train_accuracy: 0.51528 | valid_accuracy: 0.40833 |  0:01:39s\n",
            "epoch 30 | loss: 0.98897 | train_accuracy: 0.53611 | valid_accuracy: 0.40833 |  0:01:43s\n",
            "epoch 31 | loss: 1.0172  | train_accuracy: 0.51111 | valid_accuracy: 0.42083 |  0:01:46s\n",
            "epoch 32 | loss: 1.01483 | train_accuracy: 0.50278 | valid_accuracy: 0.45    |  0:01:49s\n",
            "epoch 33 | loss: 1.00725 | train_accuracy: 0.50417 | valid_accuracy: 0.44583 |  0:01:53s\n",
            "epoch 34 | loss: 1.00083 | train_accuracy: 0.50833 | valid_accuracy: 0.40833 |  0:01:56s\n",
            "epoch 35 | loss: 0.99918 | train_accuracy: 0.50972 | valid_accuracy: 0.44167 |  0:01:59s\n",
            "epoch 36 | loss: 1.00245 | train_accuracy: 0.50972 | valid_accuracy: 0.42917 |  0:02:02s\n",
            "epoch 37 | loss: 0.9818  | train_accuracy: 0.52222 | valid_accuracy: 0.41667 |  0:02:06s\n",
            "epoch 38 | loss: 1.00189 | train_accuracy: 0.5125  | valid_accuracy: 0.42083 |  0:02:09s\n",
            "epoch 39 | loss: 0.99917 | train_accuracy: 0.51667 | valid_accuracy: 0.41667 |  0:02:12s\n",
            "epoch 40 | loss: 0.98795 | train_accuracy: 0.52083 | valid_accuracy: 0.41667 |  0:02:16s\n",
            "epoch 41 | loss: 0.99726 | train_accuracy: 0.51528 | valid_accuracy: 0.42917 |  0:02:19s\n",
            "epoch 42 | loss: 1.00388 | train_accuracy: 0.5375  | valid_accuracy: 0.39583 |  0:02:23s\n",
            "epoch 43 | loss: 1.00295 | train_accuracy: 0.53056 | valid_accuracy: 0.41667 |  0:02:26s\n",
            "epoch 44 | loss: 1.01062 | train_accuracy: 0.52083 | valid_accuracy: 0.45833 |  0:02:29s\n",
            "epoch 45 | loss: 0.97862 | train_accuracy: 0.53194 | valid_accuracy: 0.40833 |  0:02:33s\n",
            "epoch 46 | loss: 0.97948 | train_accuracy: 0.50972 | valid_accuracy: 0.47083 |  0:02:36s\n",
            "epoch 47 | loss: 0.99571 | train_accuracy: 0.52083 | valid_accuracy: 0.43333 |  0:02:39s\n",
            "epoch 48 | loss: 0.99368 | train_accuracy: 0.50694 | valid_accuracy: 0.45833 |  0:02:43s\n",
            "epoch 49 | loss: 0.99383 | train_accuracy: 0.53056 | valid_accuracy: 0.425   |  0:02:46s\n",
            "epoch 50 | loss: 0.99705 | train_accuracy: 0.53056 | valid_accuracy: 0.44583 |  0:02:49s\n",
            "epoch 51 | loss: 0.98621 | train_accuracy: 0.52361 | valid_accuracy: 0.4125  |  0:02:53s\n",
            "epoch 52 | loss: 0.99089 | train_accuracy: 0.52778 | valid_accuracy: 0.425   |  0:02:56s\n",
            "epoch 53 | loss: 1.00182 | train_accuracy: 0.50833 | valid_accuracy: 0.41667 |  0:02:59s\n",
            "epoch 54 | loss: 0.99565 | train_accuracy: 0.51944 | valid_accuracy: 0.4375  |  0:03:03s\n",
            "epoch 55 | loss: 1.01219 | train_accuracy: 0.52083 | valid_accuracy: 0.45    |  0:03:06s\n",
            "epoch 56 | loss: 1.00145 | train_accuracy: 0.52222 | valid_accuracy: 0.44167 |  0:03:09s\n",
            "epoch 57 | loss: 1.00539 | train_accuracy: 0.51111 | valid_accuracy: 0.43333 |  0:03:12s\n",
            "epoch 58 | loss: 1.01836 | train_accuracy: 0.51389 | valid_accuracy: 0.45833 |  0:03:16s\n",
            "epoch 59 | loss: 1.00217 | train_accuracy: 0.51389 | valid_accuracy: 0.44583 |  0:03:19s\n",
            "epoch 60 | loss: 0.99991 | train_accuracy: 0.51944 | valid_accuracy: 0.4625  |  0:03:22s\n",
            "epoch 61 | loss: 1.00484 | train_accuracy: 0.52222 | valid_accuracy: 0.44583 |  0:03:26s\n",
            "epoch 62 | loss: 1.00282 | train_accuracy: 0.51389 | valid_accuracy: 0.44583 |  0:03:29s\n",
            "epoch 63 | loss: 1.00603 | train_accuracy: 0.51111 | valid_accuracy: 0.45    |  0:03:32s\n",
            "epoch 64 | loss: 0.98406 | train_accuracy: 0.50833 | valid_accuracy: 0.47083 |  0:03:36s\n",
            "epoch 65 | loss: 1.00528 | train_accuracy: 0.51806 | valid_accuracy: 0.45    |  0:03:39s\n",
            "epoch 66 | loss: 0.98852 | train_accuracy: 0.51111 | valid_accuracy: 0.44583 |  0:03:42s\n",
            "epoch 67 | loss: 0.99218 | train_accuracy: 0.52083 | valid_accuracy: 0.425   |  0:03:46s\n",
            "epoch 68 | loss: 1.00266 | train_accuracy: 0.525   | valid_accuracy: 0.42917 |  0:03:49s\n",
            "epoch 69 | loss: 0.99918 | train_accuracy: 0.51667 | valid_accuracy: 0.45    |  0:03:52s\n",
            "epoch 70 | loss: 0.99926 | train_accuracy: 0.51944 | valid_accuracy: 0.44167 |  0:03:55s\n",
            "epoch 71 | loss: 1.01194 | train_accuracy: 0.51667 | valid_accuracy: 0.4375  |  0:03:59s\n",
            "epoch 72 | loss: 0.98297 | train_accuracy: 0.52083 | valid_accuracy: 0.43333 |  0:04:02s\n",
            "epoch 73 | loss: 1.00223 | train_accuracy: 0.52917 | valid_accuracy: 0.44583 |  0:04:05s\n",
            "epoch 74 | loss: 0.99917 | train_accuracy: 0.52361 | valid_accuracy: 0.42083 |  0:04:08s\n",
            "epoch 75 | loss: 0.98192 | train_accuracy: 0.50556 | valid_accuracy: 0.45    |  0:04:12s\n",
            "epoch 76 | loss: 0.99263 | train_accuracy: 0.52083 | valid_accuracy: 0.44583 |  0:04:15s\n",
            "epoch 77 | loss: 0.99118 | train_accuracy: 0.50972 | valid_accuracy: 0.42917 |  0:04:18s\n",
            "epoch 78 | loss: 0.9809  | train_accuracy: 0.51944 | valid_accuracy: 0.425   |  0:04:22s\n",
            "epoch 79 | loss: 0.99681 | train_accuracy: 0.50139 | valid_accuracy: 0.43333 |  0:04:25s\n",
            "epoch 80 | loss: 0.99539 | train_accuracy: 0.51806 | valid_accuracy: 0.45833 |  0:04:28s\n",
            "epoch 81 | loss: 1.00103 | train_accuracy: 0.52361 | valid_accuracy: 0.42083 |  0:04:32s\n",
            "epoch 82 | loss: 0.98737 | train_accuracy: 0.50972 | valid_accuracy: 0.4375  |  0:04:35s\n",
            "epoch 83 | loss: 0.98456 | train_accuracy: 0.50694 | valid_accuracy: 0.4625  |  0:04:38s\n",
            "epoch 84 | loss: 0.99969 | train_accuracy: 0.51667 | valid_accuracy: 0.44167 |  0:04:42s\n",
            "epoch 85 | loss: 0.99666 | train_accuracy: 0.51806 | valid_accuracy: 0.44583 |  0:04:45s\n",
            "epoch 86 | loss: 0.99819 | train_accuracy: 0.51667 | valid_accuracy: 0.45833 |  0:04:48s\n",
            "epoch 87 | loss: 0.98623 | train_accuracy: 0.51806 | valid_accuracy: 0.43333 |  0:04:51s\n",
            "epoch 88 | loss: 0.9945  | train_accuracy: 0.52083 | valid_accuracy: 0.42917 |  0:04:55s\n",
            "epoch 89 | loss: 0.99019 | train_accuracy: 0.52778 | valid_accuracy: 0.41667 |  0:04:58s\n",
            "epoch 90 | loss: 0.98972 | train_accuracy: 0.53611 | valid_accuracy: 0.44583 |  0:05:01s\n",
            "epoch 91 | loss: 0.9933  | train_accuracy: 0.53056 | valid_accuracy: 0.4375  |  0:05:05s\n",
            "epoch 92 | loss: 0.98855 | train_accuracy: 0.525   | valid_accuracy: 0.42083 |  0:05:08s\n",
            "epoch 93 | loss: 0.98922 | train_accuracy: 0.52361 | valid_accuracy: 0.42917 |  0:05:11s\n",
            "epoch 94 | loss: 0.9913  | train_accuracy: 0.52917 | valid_accuracy: 0.45417 |  0:05:15s\n",
            "epoch 95 | loss: 0.99448 | train_accuracy: 0.51528 | valid_accuracy: 0.425   |  0:05:18s\n",
            "epoch 96 | loss: 0.99493 | train_accuracy: 0.53194 | valid_accuracy: 0.4375  |  0:05:21s\n",
            "epoch 97 | loss: 0.99523 | train_accuracy: 0.51667 | valid_accuracy: 0.43333 |  0:05:25s\n",
            "epoch 98 | loss: 0.99245 | train_accuracy: 0.51389 | valid_accuracy: 0.43333 |  0:05:28s\n",
            "epoch 99 | loss: 0.9892  | train_accuracy: 0.50833 | valid_accuracy: 0.45    |  0:05:31s\n",
            "Stop training because you reached max_epochs = 100 with best_epoch = 9 and best_valid_accuracy = 0.49167\n"
          ]
        },
        {
          "output_type": "stream",
          "name": "stderr",
          "text": [
            "/usr/local/lib/python3.7/dist-packages/pytorch_tabnet/callbacks.py:172: UserWarning: Best weights from best epoch are automatically used!\n",
            "  warnings.warn(wrn_msg)\n"
          ]
        }
      ]
    },
    {
      "cell_type": "code",
      "source": [
        "# plot the losses\n",
        "plt.plot(clf.history['loss'])"
      ],
      "metadata": {
        "id": "J0_-2zyIhCcH",
        "colab": {
          "base_uri": "https://localhost:8080/",
          "height": 284
        },
        "outputId": "68f55318-c946-4c97-b221-567f8e2f6dfa"
      },
      "execution_count": 71,
      "outputs": [
        {
          "output_type": "execute_result",
          "data": {
            "text/plain": [
              "[<matplotlib.lines.Line2D at 0x7f764029a0d0>]"
            ]
          },
          "metadata": {},
          "execution_count": 71
        },
        {
          "output_type": "display_data",
          "data": {
            "text/plain": [
              "<Figure size 432x288 with 1 Axes>"
            ],
            "image/png": "[encoded data removed]"
          },
          "metadata": {
            "needs_background": "light"
          }
        }
      ]
    },
    {
      "cell_type": "code",
      "source": [
        "# plot accuracy\n",
        "plt.plot(clf.history['train_accuracy'])\n",
        "plt.plot(clf.history['valid_accuracy'])\n",
        "# blue is the train_accuracy\n",
        "# yellow is the valid_accuracy"
      ],
      "metadata": {
        "colab": {
          "base_uri": "https://localhost:8080/",
          "height": 284
        },
        "id": "IeuUaWQrkkqV",
        "outputId": "30df413b-73f2-42ac-cced-6ec883cc72a2"
      },
      "execution_count": 72,
      "outputs": [
        {
          "output_type": "execute_result",
          "data": {
            "text/plain": [
              "[<matplotlib.lines.Line2D at 0x7f764040ad10>]"
            ]
          },
          "metadata": {},
          "execution_count": 72
        },
        {
          "output_type": "display_data",
          "data": {
            "text/plain": [
              "<Figure size 432x288 with 1 Axes>"
            ],
            "image/png": "[encoded data removed]"
          },
          "metadata": {
            "needs_background": "light"
          }
        }
      ]
    },
    {
      "cell_type": "markdown",
      "source": [
        "### Section 9\n",
        "###Predictions"
      ],
      "metadata": {
        "id": "ZAgHWq2wkm1K"
      }
    },
    {
      "cell_type": "code",
      "source": [
        "# To get final results you may need to use a mapping for classes \n",
        "# as you are allowed to use targets like [\"yes\", \"no\", \"maybe\", \"I don't know\"]\n",
        "\n",
        "preds_mapper = { idx : class_name for idx, class_name in enumerate(clf.classes_)}\n",
        "\n",
        "preds = clf.predict_proba(X_test)\n",
        "\n",
        "y_pred = np.vectorize(preds_mapper.get)(np.argmax(preds, axis=1))\n",
        "\n",
        "test_acc = accuracy_score(y_pred=y_pred, y_true=y_test)\n",
        "\n",
        "print(f\"BEST VALID SCORE FOR {dataset_name} : {clf.best_cost}\")\n",
        "print(f\"FINAL TEST SCORE FOR {dataset_name} : {test_acc}\")"
      ],
      "metadata": {
        "colab": {
          "base_uri": "https://localhost:8080/"
        },
        "id": "fCP-WbHYkmLK",
        "outputId": "a4b3272a-a4e6-46db-a9b4-19acb48b5803"
      },
      "execution_count": 73,
      "outputs": [
        {
          "output_type": "stream",
          "name": "stdout",
          "text": [
            "BEST VALID SCORE FOR apple-attribute : 0.49166666666666664\n",
            "FINAL TEST SCORE FOR apple-attribute : 0.425\n"
          ]
        }
      ]
    },
    {
      "cell_type": "markdown",
      "source": [
        "### Section 10\n",
        "### Save and load Model\n",
        "You don't really need to worry about from section 10"
      ],
      "metadata": {
        "id": "Jb-8HXgSks0M"
      }
    },
    {
      "cell_type": "code",
      "source": [
        "# save state dict\n",
        "saved_filename = clf.save_model('test_model')"
      ],
      "metadata": {
        "colab": {
          "base_uri": "https://localhost:8080/"
        },
        "id": "3ThBJywhksK_",
        "outputId": "58920c83-98e3-4327-c400-3da75866d6c2"
      },
      "execution_count": null,
      "outputs": [
        {
          "output_type": "stream",
          "name": "stdout",
          "text": [
            "Successfully saved model at test_model.zip\n"
          ]
        }
      ]
    },
    {
      "cell_type": "code",
      "source": [
        "# define new model and load save parameters\n",
        "loaded_clf = TabNetClassifier()\n",
        "loaded_clf.load_model(saved_filename)"
      ],
      "metadata": {
        "colab": {
          "base_uri": "https://localhost:8080/"
        },
        "id": "Yz4TRSD3kwbX",
        "outputId": "b1146594-8f84-45cf-8830-4fb48a674f93"
      },
      "execution_count": null,
      "outputs": [
        {
          "output_type": "stream",
          "name": "stderr",
          "text": [
            "/usr/local/lib/python3.7/dist-packages/pytorch_tabnet/abstract_model.py:75: UserWarning: Device used : cuda\n",
            "  warnings.warn(f\"Device used : {self.device}\")\n"
          ]
        }
      ]
    },
    {
      "cell_type": "code",
      "source": [
        "loaded_preds = loaded_clf.predict_proba(X_test)\n",
        "loaded_y_pred = np.vectorize(preds_mapper.get)(np.argmax(loaded_preds, axis=1))\n",
        "\n",
        "loaded_test_acc = accuracy_score(y_pred=loaded_y_pred, y_true=y_test)\n",
        "\n",
        "print(f\"FINAL TEST SCORE FOR {dataset_name} : {loaded_test_acc}\")"
      ],
      "metadata": {
        "colab": {
          "base_uri": "https://localhost:8080/"
        },
        "id": "LlX-g6n5kzU-",
        "outputId": "c1111bcf-f62a-47f7-a324-4c926718e9c6"
      },
      "execution_count": null,
      "outputs": [
        {
          "output_type": "stream",
          "name": "stdout",
          "text": [
            "FINAL TEST SCORE FOR apple-attribute : 0.36666666666666664\n"
          ]
        }
      ]
    },
    {
      "cell_type": "code",
      "source": [
        "assert(test_acc == loaded_test_acc)"
      ],
      "metadata": {
        "id": "jslfOhTMk17j"
      },
      "execution_count": null,
      "outputs": []
    },
    {
      "cell_type": "markdown",
      "source": [
        "###Global explainability : feat importance summing to 1"
      ],
      "metadata": {
        "id": "VvvHOu5Ik2m1"
      }
    },
    {
      "cell_type": "code",
      "source": [
        "clf.feature_importances_"
      ],
      "metadata": {
        "colab": {
          "base_uri": "https://localhost:8080/"
        },
        "id": "ATd0fJ0Yk4OE",
        "outputId": "4a466402-6963-4858-da11-b827cdb2a42f"
      },
      "execution_count": null,
      "outputs": [
        {
          "output_type": "execute_result",
          "data": {
            "text/plain": [
              "array([0.16593812, 0.10855426, 0.27246367, 0.45304395])"
            ]
          },
          "metadata": {},
          "execution_count": 72
        }
      ]
    },
    {
      "cell_type": "markdown",
      "source": [
        "###Local explainability and masks"
      ],
      "metadata": {
        "id": "AZX82doGk6Fr"
      }
    },
    {
      "cell_type": "code",
      "source": [
        "explain_matrix, masks = clf.explain(X_test)"
      ],
      "metadata": {
        "id": "I01QJ1Tuk5ow"
      },
      "execution_count": null,
      "outputs": []
    },
    {
      "cell_type": "code",
      "source": [
        "fig, axs = plt.subplots(1, 5, figsize=(20,20))\n",
        "\n",
        "for i in range(5):\n",
        "    axs[i].imshow(masks[i][:50])\n",
        "    axs[i].set_title(f\"mask {i}\")"
      ],
      "metadata": {
        "colab": {
          "base_uri": "https://localhost:8080/",
          "height": 1000
        },
        "id": "oiBH9injk_Ms",
        "outputId": "308adafb-fbf2-4f7e-ad3b-984d4ded0139"
      },
      "execution_count": null,
      "outputs": [
        {
          "output_type": "display_data",
          "data": {
            "text/plain": [
              "<Figure size 1440x1440 with 5 Axes>"
            ],
            "image/png": "[encoded data removed]"
          },
          "metadata": {
            "needs_background": "light"
          }
        }
      ]
    },
    {
      "cell_type": "markdown",
      "source": [
        "### XGB\n",
        "This is a machine learning model"
      ],
      "metadata": {
        "id": "91rma0SXlAiA"
      }
    },
    {
      "cell_type": "code",
      "source": [
        "  n_estimators = 1000 if not os.getenv(\"CI\", False) else 20"
      ],
      "metadata": {
        "id": "KJ7_G-x1lBWs"
      },
      "execution_count": null,
      "outputs": []
    },
    {
      "cell_type": "code",
      "source": [
        "from xgboost import XGBClassifier\n",
        "\n",
        "clf_xgb = XGBClassifier(max_depth=8,\n",
        "    learning_rate=0.1,\n",
        "    n_estimators=n_estimators,\n",
        "    verbosity=0,\n",
        "    silent=None,\n",
        "    objective=\"multi:softmax\",\n",
        "    booster='gbtree',\n",
        "    n_jobs=-1,\n",
        "    nthread=None,\n",
        "    gamma=0,\n",
        "    min_child_weight=1,\n",
        "    max_delta_step=0,\n",
        "    subsample=0.7,\n",
        "    colsample_bytree=1,\n",
        "    colsample_bylevel=1,\n",
        "    colsample_bynode=1,\n",
        "    reg_alpha=0,\n",
        "    reg_lambda=1,\n",
        "    scale_pos_weight=1,\n",
        "    base_score=0.5,\n",
        "    random_state=0,\n",
        "    seed=None,)\n",
        "\n",
        "clf_xgb.fit(X_train, y_train,\n",
        "            eval_set=[(X_valid, y_valid)],\n",
        "            early_stopping_rounds=40,\n",
        "            verbose=10)"
      ],
      "metadata": {
        "colab": {
          "base_uri": "https://localhost:8080/"
        },
        "id": "jcg5cJPflC5F",
        "outputId": "b4e56da4-9bb2-4fad-ecf1-452abf7bd4d2"
      },
      "execution_count": null,
      "outputs": [
        {
          "output_type": "stream",
          "name": "stdout",
          "text": [
            "[0]\tvalidation_0-merror:0.713396\n",
            "Will train until validation_0-merror hasn't improved in 40 rounds.\n",
            "[10]\tvalidation_0-merror:0.647975\n",
            "[20]\tvalidation_0-merror:0.632399\n",
            "[30]\tvalidation_0-merror:0.629283\n",
            "[40]\tvalidation_0-merror:0.641745\n",
            "[50]\tvalidation_0-merror:0.654206\n",
            "[60]\tvalidation_0-merror:0.632399\n",
            "Stopping. Best iteration:\n",
            "[27]\tvalidation_0-merror:0.619938\n",
            "\n"
          ]
        },
        {
          "output_type": "execute_result",
          "data": {
            "text/plain": [
              "XGBClassifier(max_depth=8, n_estimators=1000, n_jobs=-1,\n",
              "              objective='multi:softprob', subsample=0.7, verbosity=0)"
            ]
          },
          "metadata": {},
          "execution_count": 79
        }
      ]
    },
    {
      "cell_type": "code",
      "source": [
        "preds_valid = np.array(clf_xgb.predict_proba(X_valid, ))\n",
        "valid_acc = accuracy_score(y_pred=np.argmax(preds_valid, axis=1) + 1, y_true=y_valid)\n",
        "print(valid_acc)\n",
        "\n",
        "preds_test = np.array(clf_xgb.predict_proba(X_test))\n",
        "test_acc = accuracy_score(y_pred=np.argmax(preds_test, axis=1) + 1, y_true=y_test)\n",
        "print(test_acc)"
      ],
      "metadata": {
        "colab": {
          "base_uri": "https://localhost:8080/"
        },
        "id": "RUYjqqS9lEZe",
        "outputId": "5916b05f-024b-47d1-9b86-62b8ab086fb8"
      },
      "execution_count": null,
      "outputs": [
        {
          "output_type": "stream",
          "name": "stdout",
          "text": [
            "0.0\n",
            "0.0\n"
          ]
        }
      ]
    },
    {
      "cell_type": "code",
      "source": [],
      "metadata": {
        "id": "3Ia0eycM6Iab"
      },
      "execution_count": null,
      "outputs": []
    }
  ]
}